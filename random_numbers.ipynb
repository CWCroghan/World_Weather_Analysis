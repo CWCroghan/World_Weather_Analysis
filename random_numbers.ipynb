{
 "cells": [
  {
   "cell_type": "code",
   "execution_count": 8,
   "id": "d9434034",
   "metadata": {},
   "outputs": [],
   "source": [
    "# Get dependents\n",
    "import random\n",
    "import numpy as np"
   ]
  },
  {
   "cell_type": "code",
   "execution_count": 9,
   "id": "bc38b0a4",
   "metadata": {},
   "outputs": [
    {
     "data": {
      "text/plain": [
       "-37"
      ]
     },
     "execution_count": 9,
     "metadata": {},
     "output_type": "execute_result"
    }
   ],
   "source": [
    "random.randint(-90,90)"
   ]
  },
  {
   "cell_type": "code",
   "execution_count": 10,
   "id": "8b8010d6",
   "metadata": {},
   "outputs": [
    {
     "data": {
      "text/plain": [
       "0.36088929375503453"
      ]
     },
     "execution_count": 10,
     "metadata": {},
     "output_type": "execute_result"
    }
   ],
   "source": [
    "random.random()"
   ]
  },
  {
   "cell_type": "code",
   "execution_count": 11,
   "id": "be6bf5dd",
   "metadata": {},
   "outputs": [
    {
     "data": {
      "text/plain": [
       "[-14.198492633392345,\n",
       " -69.16649847526743,\n",
       " -57.63133626892929,\n",
       " 89.08649191707218,\n",
       " 64.29776034709346,\n",
       " 26.377308226371625,\n",
       " 19.502206303097175,\n",
       " -2.604965566087656,\n",
       " 6.787317710832372,\n",
       " -21.702601356306648]"
      ]
     },
     "execution_count": 11,
     "metadata": {},
     "output_type": "execute_result"
    }
   ],
   "source": [
    "x=1\n",
    "latitudes = []\n",
    "while x < 11:\n",
    "    random_lat = random.randint(-90,89) + random.random()\n",
    "    latitudes.append(random_lat)\n",
    "    x += 1\n",
    "\n",
    "latitudes"
   ]
  },
  {
   "cell_type": "code",
   "execution_count": 12,
   "id": "38403bac",
   "metadata": {},
   "outputs": [
    {
     "data": {
      "text/plain": [
       "-30"
      ]
     },
     "execution_count": 12,
     "metadata": {},
     "output_type": "execute_result"
    }
   ],
   "source": [
    "random.randrange(-90,90,step = 1)"
   ]
  },
  {
   "cell_type": "code",
   "execution_count": 13,
   "id": "dfcc4342",
   "metadata": {},
   "outputs": [
    {
     "data": {
      "text/plain": [
       "70.44785623185703"
      ]
     },
     "execution_count": 13,
     "metadata": {},
     "output_type": "execute_result"
    }
   ],
   "source": [
    "random.uniform(-90,90)"
   ]
  },
  {
   "cell_type": "code",
   "execution_count": 14,
   "id": "a0ac72d4",
   "metadata": {},
   "outputs": [
    {
     "data": {
      "text/plain": [
       "69.55747776813857"
      ]
     },
     "execution_count": 14,
     "metadata": {},
     "output_type": "execute_result"
    }
   ],
   "source": [
    "np.random.uniform(-90.000,90.000)"
   ]
  },
  {
   "cell_type": "code",
   "execution_count": 15,
   "id": "c5cad558",
   "metadata": {},
   "outputs": [
    {
     "data": {
      "text/plain": [
       "array([ 43.41499928,  54.51174109, -70.87693124,   6.87646653,\n",
       "       -72.0504279 , -26.54357111,  45.51246702,  78.73740532,\n",
       "       -49.77472669,  50.26575917,  53.39634725,  24.54123453,\n",
       "        13.40673267, -59.77016719, -89.89400351,  66.4962787 ,\n",
       "       -84.95376879, -58.86355097,  64.44359138,  26.92262107,\n",
       "       -44.24047016,  55.76469842, -13.74384616,  54.97738783,\n",
       "        71.21519881,  36.43412317, -14.7750273 , -34.81638755,\n",
       "       -50.22618753,  86.36779532,  20.80382667, -55.93829483,\n",
       "       -59.59225094,  36.09915117, -77.81998928, -75.03533279,\n",
       "       -50.13335444, -26.20251209, -54.71159437,   2.88389961,\n",
       "       -56.47040994,  13.14563473, -47.92311985, -79.28048579,\n",
       "        66.97857995, -62.86988773,  52.71580802,  33.21301482,\n",
       "       -65.35925438,  62.37161691])"
      ]
     },
     "execution_count": 15,
     "metadata": {},
     "output_type": "execute_result"
    }
   ],
   "source": [
    "np.random.uniform(-90.000,90.000, size=50)"
   ]
  },
  {
   "cell_type": "code",
   "execution_count": 16,
   "id": "f0b55378",
   "metadata": {},
   "outputs": [],
   "source": [
    "import timeit"
   ]
  },
  {
   "cell_type": "code",
   "execution_count": 18,
   "id": "46389acc",
   "metadata": {},
   "outputs": [
    {
     "name": "stdout",
     "output_type": "stream",
     "text": [
      "12.3 µs ± 95.4 ns per loop (mean ± std. dev. of 7 runs, 100000 loops each)\n"
     ]
    }
   ],
   "source": [
    "%timeit np.random.uniform(-90,90,size = 1500)"
   ]
  },
  {
   "cell_type": "code",
   "execution_count": 19,
   "id": "231713aa",
   "metadata": {},
   "outputs": [
    {
     "name": "stdout",
     "output_type": "stream",
     "text": [
      "1.5 ms ± 14.9 µs per loop (mean ± std. dev. of 7 runs, 1000 loops each)\n"
     ]
    }
   ],
   "source": [
    "def latitudes(size):\n",
    "    latitudes = []\n",
    "    x = 0\n",
    "    while x < (size):\n",
    "        random_lat = random.randint(-90, 90) + random.random()\n",
    "        latitudes.append(random_lat)\n",
    "        x += 1\n",
    "    return latitudes\n",
    "# Call the function with 1500.\n",
    "%timeit latitudes(1500)"
   ]
  },
  {
   "cell_type": "code",
   "execution_count": 20,
   "id": "ce23b68d",
   "metadata": {},
   "outputs": [
    {
     "name": "stdout",
     "output_type": "stream",
     "text": [
      "12.2 µs ± 94.1 ns per loop (mean ± std. dev. of 7 runs, 100000 loops each)\n"
     ]
    }
   ],
   "source": [
    "%timeit np.random.uniform(-180,180,size = 1500)"
   ]
  },
  {
   "cell_type": "code",
   "execution_count": 22,
   "id": "31c47714",
   "metadata": {},
   "outputs": [
    {
     "name": "stdout",
     "output_type": "stream",
     "text": [
      "1.55 ms ± 27.8 µs per loop (mean ± std. dev. of 7 runs, 1000 loops each)\n"
     ]
    }
   ],
   "source": [
    "def Longitude(size):\n",
    "    Longitude  = []\n",
    "    x = 0\n",
    "    while x < (size):\n",
    "        random_lat = random.randint(-180, 180) + random.random()\n",
    "        Longitude.append(random_lat)\n",
    "        x += 1\n",
    "    return Longitude\n",
    "# Call the function with 1500.\n",
    "%timeit Longitude(1500)"
   ]
  },
  {
   "cell_type": "code",
   "execution_count": null,
   "id": "a3eb8e23",
   "metadata": {},
   "outputs": [],
   "source": []
  }
 ],
 "metadata": {
  "kernelspec": {
   "display_name": "PythonData",
   "language": "python",
   "name": "pythondata"
  },
  "language_info": {
   "codemirror_mode": {
    "name": "ipython",
    "version": 3
   },
   "file_extension": ".py",
   "mimetype": "text/x-python",
   "name": "python",
   "nbconvert_exporter": "python",
   "pygments_lexer": "ipython3",
   "version": "3.7.15"
  }
 },
 "nbformat": 4,
 "nbformat_minor": 5
}
